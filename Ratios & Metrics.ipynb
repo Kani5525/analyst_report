{
 "cells": [
  {
   "cell_type": "code",
   "execution_count": 9,
   "id": "de322f39",
   "metadata": {},
   "outputs": [
    {
     "name": "stdout",
     "output_type": "stream",
     "text": [
      "\n",
      "Chosen Stock: PPT.AX\n",
      "Last Share Price: $15.77\n",
      "PE Ratio: -3.8277\n",
      "Dividend Yield: 3.87%\n",
      "EPS: -4.12\n",
      "ROA: -12.86%\n"
     ]
    }
   ],
   "source": [
    "import yfinance as yf\n",
    "\n",
    "# Prompt user for ticker symbol\n",
    "TICKER = input(\"Enter stock ticker (e.g., PPT.AX): \").upper()\n",
    "\n",
    "try:\n",
    "    # Ensure TICKER is not empty\n",
    "    if not TICKER:\n",
    "        raise ValueError(\"Ticker symbol cannot be empty.\")\n",
    "\n",
    "    # Get stock data\n",
    "    stock = yf.Ticker(TICKER)\n",
    "    stock_prices = stock.history(period=\"5y\")\n",
    "    stock_info = stock.info\n",
    "    stock_financials = stock.financials\n",
    "    stock_balance_sheet = stock.balance_sheet\n",
    "\n",
    "    # Extract data\n",
    "    last_price = stock_prices['Close'].iloc[-1]\n",
    "    earnings = stock_financials.loc[\"Net Income\"].iloc[0]\n",
    "    dividend = stock_info.get('lastDividendValue', 0)\n",
    "    shares_outstanding = stock_info['sharesOutstanding']\n",
    "    total_assets = (\n",
    "        stock_balance_sheet.loc[\"Total Assets\"].iloc[0] +\n",
    "        stock_balance_sheet.loc[\"Total Assets\"].iloc[1]\n",
    "    ) / 2\n",
    "\n",
    "    # Calculate ratios\n",
    "    dividend_yield = calculate_dividend_yield(dividend, last_price) * 100\n",
    "    eps = calculate_eps(earnings, shares_outstanding)\n",
    "    pe_ratio = calculate_pe_ratio(last_price, eps)\n",
    "    roa = calculate_roa(earnings, total_assets) * 100\n",
    "\n",
    "    # Print summary\n",
    "    print(f\"\\nChosen Stock: {TICKER}\")\n",
    "    print(f\"Last Share Price: ${last_price:.2f}\")\n",
    "    print(f\"PE Ratio: {pe_ratio:.4f}\")  # More precision to avoid -0.00 confusion\n",
    "    print(f\"Dividend Yield: {dividend_yield:.2f}%\")\n",
    "    print(f\"EPS: {eps:.2f}\")\n",
    "    print(f\"ROA: {roa:.2f}%\")\n",
    "\n",
    "except Exception as e:\n",
    "    print(f\"Error: {e}\")"
   ]
  },
  {
   "cell_type": "code",
   "execution_count": null,
   "id": "67714ffa",
   "metadata": {},
   "outputs": [],
   "source": []
  }
 ],
 "metadata": {
  "kernelspec": {
   "display_name": "Python 3",
   "language": "python",
   "name": "python3"
  },
  "language_info": {
   "codemirror_mode": {
    "name": "ipython",
    "version": 3
   },
   "file_extension": ".py",
   "mimetype": "text/x-python",
   "name": "python",
   "nbconvert_exporter": "python",
   "pygments_lexer": "ipython3",
   "version": "3.13.2"
  }
 },
 "nbformat": 4,
 "nbformat_minor": 5
}
